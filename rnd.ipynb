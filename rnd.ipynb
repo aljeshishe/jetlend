{
 "cells": [
  {
   "cell_type": "code",
   "execution_count": 76,
   "metadata": {},
   "outputs": [],
   "source": [
    "import requests\n",
    "from pathlib import Path\n",
    "import json\n",
    "import shutil\n",
    "import pandas as pd\n",
    "from tqdm import tqdm\n",
    "import plotly.express as px"
   ]
  },
  {
   "cell_type": "code",
   "execution_count": 60,
   "metadata": {},
   "outputs": [],
   "source": [
    "pd.options.display.max_columns = 100\n",
    "pd.options.display.max_rows = 100\n"
   ]
  },
  {
   "cell_type": "code",
   "execution_count": 61,
   "metadata": {},
   "outputs": [],
   "source": [
    "pd.options.plotting.backend = \"plotly\""
   ]
  },
  {
   "cell_type": "code",
   "execution_count": 62,
   "metadata": {},
   "outputs": [],
   "source": [
    "OUTPUTS = Path(\"outputs\")"
   ]
  },
  {
   "cell_type": "code",
   "execution_count": 79,
   "metadata": {},
   "outputs": [
    {
     "name": "stderr",
     "output_type": "stream",
     "text": [
      "2165it [00:00, 3349.03it/s]\n"
     ]
    }
   ],
   "source": [
    "loans = []\n",
    "for file in tqdm(OUTPUTS.glob(\"*.json\")):\n",
    "    data = json.loads(file.read_text())\n",
    "    if data[\"status\"] != \"OK\":\n",
    "        continue\n",
    "    loans += json.loads(file.read_text())[\"loans\"]"
   ]
  },
  {
   "cell_type": "code",
   "execution_count": 80,
   "metadata": {},
   "outputs": [],
   "source": [
    "df = pd.DataFrame(loans)"
   ]
  },
  {
   "cell_type": "code",
   "execution_count": 81,
   "metadata": {},
   "outputs": [
    {
     "data": {
      "text/html": [
       "<div>\n",
       "<style scoped>\n",
       "    .dataframe tbody tr th:only-of-type {\n",
       "        vertical-align: middle;\n",
       "    }\n",
       "\n",
       "    .dataframe tbody tr th {\n",
       "        vertical-align: top;\n",
       "    }\n",
       "\n",
       "    .dataframe thead th {\n",
       "        text-align: right;\n",
       "    }\n",
       "</style>\n",
       "<table border=\"1\" class=\"dataframe\">\n",
       "  <thead>\n",
       "    <tr style=\"text-align: right;\">\n",
       "      <th></th>\n",
       "      <th>amount</th>\n",
       "      <th>borrower_rating</th>\n",
       "      <th>company</th>\n",
       "      <th>date</th>\n",
       "      <th>id</th>\n",
       "      <th>image_url</th>\n",
       "      <th>interest_rate</th>\n",
       "      <th>investing</th>\n",
       "      <th>investing_amount</th>\n",
       "      <th>investing_debt_amount</th>\n",
       "      <th>loan_isin</th>\n",
       "      <th>loan_name</th>\n",
       "      <th>loan_order</th>\n",
       "      <th>loan_rating</th>\n",
       "      <th>payments</th>\n",
       "      <th>preview_small_url</th>\n",
       "      <th>preview_url</th>\n",
       "      <th>progress</th>\n",
       "      <th>rating</th>\n",
       "      <th>status</th>\n",
       "      <th>term</th>\n",
       "    </tr>\n",
       "  </thead>\n",
       "  <tbody>\n",
       "    <tr>\n",
       "      <th>0</th>\n",
       "      <td>500000.00</td>\n",
       "      <td>BBB+</td>\n",
       "      <td>ООО \"АГРООПТ\"</td>\n",
       "      <td>2020-09-28T00:00:00+03:00</td>\n",
       "      <td>856</td>\n",
       "      <td>/media/images/ac/7a/ac7a4415-3b39-4d54-b9a0-00...</td>\n",
       "      <td>0.295</td>\n",
       "      <td>-</td>\n",
       "      <td>0.0</td>\n",
       "      <td>0.00</td>\n",
       "      <td>JL0000000856</td>\n",
       "      <td>АГРООПТ-В01</td>\n",
       "      <td>1</td>\n",
       "      <td>C</td>\n",
       "      <td>[{'date': '2020-10-12T00:00:00+03:00', 'fine':...</td>\n",
       "      <td>/media/images/ac/7a/ac7a4415-3b39-4d54-b9a0-00...</td>\n",
       "      <td>/media/images/ac/7a/ac7a4415-3b39-4d54-b9a0-00...</td>\n",
       "      <td>[1.0, 0, 0]</td>\n",
       "      <td>C</td>\n",
       "      <td>closed</td>\n",
       "      <td>186</td>\n",
       "    </tr>\n",
       "    <tr>\n",
       "      <th>1</th>\n",
       "      <td>1500000.00</td>\n",
       "      <td>BBB+</td>\n",
       "      <td>ООО \"АГРООПТ\"</td>\n",
       "      <td>2021-04-08T11:21:58.454711+03:00</td>\n",
       "      <td>1201</td>\n",
       "      <td>/media/images/ac/7a/ac7a4415-3b39-4d54-b9a0-00...</td>\n",
       "      <td>0.185</td>\n",
       "      <td>-</td>\n",
       "      <td>0.0</td>\n",
       "      <td>0.00</td>\n",
       "      <td>JL0000001201</td>\n",
       "      <td>АГРООПТ-В02</td>\n",
       "      <td>2</td>\n",
       "      <td>BBB+</td>\n",
       "      <td>[{'date': '2021-05-08T00:00:00+03:00', 'fine':...</td>\n",
       "      <td>/media/images/ac/7a/ac7a4415-3b39-4d54-b9a0-00...</td>\n",
       "      <td>/media/images/ac/7a/ac7a4415-3b39-4d54-b9a0-00...</td>\n",
       "      <td>[1.0, 0, 0]</td>\n",
       "      <td>BBB+</td>\n",
       "      <td>closed</td>\n",
       "      <td>365</td>\n",
       "    </tr>\n",
       "    <tr>\n",
       "      <th>2</th>\n",
       "      <td>898880.00</td>\n",
       "      <td>B</td>\n",
       "      <td>ООО \"УРАЛ СТРОЙ МОНТАЖ\"</td>\n",
       "      <td>2020-09-04T00:00:00+03:00</td>\n",
       "      <td>805</td>\n",
       "      <td>/media/images/84/6f/846f7dd8-a305-4dba-b01a-bc...</td>\n",
       "      <td>0.235</td>\n",
       "      <td>-</td>\n",
       "      <td>0.0</td>\n",
       "      <td>0.00</td>\n",
       "      <td>JL0000000805</td>\n",
       "      <td>УРАЛСТРОЙМОН-В01</td>\n",
       "      <td>1</td>\n",
       "      <td>B</td>\n",
       "      <td>[{'date': '2020-09-18T00:00:00+03:00', 'fine':...</td>\n",
       "      <td>/media/images/84/6f/846f7dd8-a305-4dba-b01a-bc...</td>\n",
       "      <td>/media/images/84/6f/846f7dd8-a305-4dba-b01a-bc...</td>\n",
       "      <td>[1.0, 0, 0]</td>\n",
       "      <td>B</td>\n",
       "      <td>closed</td>\n",
       "      <td>217</td>\n",
       "    </tr>\n",
       "    <tr>\n",
       "      <th>3</th>\n",
       "      <td>50000.00</td>\n",
       "      <td>None</td>\n",
       "      <td>ООО НПО \"АЛЬФА КЕМИКАЛ\"</td>\n",
       "      <td>2020-02-05T03:00:00+03:00</td>\n",
       "      <td>594</td>\n",
       "      <td>/media/images/63df1d86-a417-4b6f-9819-fa2b4d99...</td>\n",
       "      <td>0.250</td>\n",
       "      <td>-</td>\n",
       "      <td>0.0</td>\n",
       "      <td>0.00</td>\n",
       "      <td>JL0000000411</td>\n",
       "      <td>АЛЬФАКЕМИКАЛ-В02</td>\n",
       "      <td>2</td>\n",
       "      <td>B+</td>\n",
       "      <td>[{'date': '2020-02-19T00:00:00+03:00', 'fine':...</td>\n",
       "      <td>/media/images/63df1d86-a417-4b6f-9819-fa2b4d99...</td>\n",
       "      <td>/media/images/63df1d86-a417-4b6f-9819-fa2b4d99...</td>\n",
       "      <td>[0.8386895999999999, 0, 0.1613104000000001]</td>\n",
       "      <td>B+</td>\n",
       "      <td>default</td>\n",
       "      <td>182</td>\n",
       "    </tr>\n",
       "    <tr>\n",
       "      <th>4</th>\n",
       "      <td>950000.00</td>\n",
       "      <td>None</td>\n",
       "      <td>ООО НПО \"АЛЬФА КЕМИКАЛ\"</td>\n",
       "      <td>2020-02-05T03:00:00+03:00</td>\n",
       "      <td>595</td>\n",
       "      <td>/media/images/63df1d86-a417-4b6f-9819-fa2b4d99...</td>\n",
       "      <td>0.250</td>\n",
       "      <td>-</td>\n",
       "      <td>0.0</td>\n",
       "      <td>0.00</td>\n",
       "      <td>JL0000000411</td>\n",
       "      <td>АЛЬФАКЕМИКАЛ-В03</td>\n",
       "      <td>3</td>\n",
       "      <td>B+</td>\n",
       "      <td>[{'date': '2020-02-19T00:00:00+03:00', 'fine':...</td>\n",
       "      <td>/media/images/63df1d86-a417-4b6f-9819-fa2b4d99...</td>\n",
       "      <td>/media/images/63df1d86-a417-4b6f-9819-fa2b4d99...</td>\n",
       "      <td>[0.38349631578947363, 0, 0.6165036842105264]</td>\n",
       "      <td>B+</td>\n",
       "      <td>default</td>\n",
       "      <td>182</td>\n",
       "    </tr>\n",
       "    <tr>\n",
       "      <th>...</th>\n",
       "      <td>...</td>\n",
       "      <td>...</td>\n",
       "      <td>...</td>\n",
       "      <td>...</td>\n",
       "      <td>...</td>\n",
       "      <td>...</td>\n",
       "      <td>...</td>\n",
       "      <td>...</td>\n",
       "      <td>...</td>\n",
       "      <td>...</td>\n",
       "      <td>...</td>\n",
       "      <td>...</td>\n",
       "      <td>...</td>\n",
       "      <td>...</td>\n",
       "      <td>...</td>\n",
       "      <td>...</td>\n",
       "      <td>...</td>\n",
       "      <td>...</td>\n",
       "      <td>...</td>\n",
       "      <td>...</td>\n",
       "      <td>...</td>\n",
       "    </tr>\n",
       "    <tr>\n",
       "      <th>3532</th>\n",
       "      <td>36200.00</td>\n",
       "      <td>CC</td>\n",
       "      <td>ИП Романовский Раймонд Леонидович</td>\n",
       "      <td>2022-01-28T16:34:15+03:00</td>\n",
       "      <td>13848</td>\n",
       "      <td>/media/images/9e966bfb-7bf8-4af3-b300-cd0baa5e...</td>\n",
       "      <td>0.200</td>\n",
       "      <td>-</td>\n",
       "      <td>0.0</td>\n",
       "      <td>0.00</td>\n",
       "      <td>JL0000002237</td>\n",
       "      <td>РомановскийР-В12</td>\n",
       "      <td>12</td>\n",
       "      <td>CC</td>\n",
       "      <td>[{'date': '2022-02-28T00:00:00+03:00', 'fine':...</td>\n",
       "      <td>/media/images/9e966bfb-7bf8-4af3-b300-cd0baa5e...</td>\n",
       "      <td>/media/images/9e966bfb-7bf8-4af3-b300-cd0baa5e...</td>\n",
       "      <td>[-0.04973784530386749, 0, 1.0497378453038675]</td>\n",
       "      <td>CC</td>\n",
       "      <td>default</td>\n",
       "      <td>1098</td>\n",
       "    </tr>\n",
       "    <tr>\n",
       "      <th>3533</th>\n",
       "      <td>5855200.00</td>\n",
       "      <td>CC</td>\n",
       "      <td>ИП Романовский Раймонд Леонидович</td>\n",
       "      <td>2022-01-28T16:34:15+03:00</td>\n",
       "      <td>13849</td>\n",
       "      <td>/media/images/9e966bfb-7bf8-4af3-b300-cd0baa5e...</td>\n",
       "      <td>0.200</td>\n",
       "      <td>-</td>\n",
       "      <td>0.0</td>\n",
       "      <td>0.00</td>\n",
       "      <td>JL0000002237</td>\n",
       "      <td>РомановскийР-В13</td>\n",
       "      <td>13</td>\n",
       "      <td>CC</td>\n",
       "      <td>[{'date': '2022-02-28T00:00:00+03:00', 'fine':...</td>\n",
       "      <td>/media/images/9e966bfb-7bf8-4af3-b300-cd0baa5e...</td>\n",
       "      <td>/media/images/9e966bfb-7bf8-4af3-b300-cd0baa5e...</td>\n",
       "      <td>[0.05939465090859419, 0, 0.9406053490914058]</td>\n",
       "      <td>CC</td>\n",
       "      <td>default</td>\n",
       "      <td>1407</td>\n",
       "    </tr>\n",
       "    <tr>\n",
       "      <th>3534</th>\n",
       "      <td>500000.00</td>\n",
       "      <td>CCC</td>\n",
       "      <td>ИП Хатунцев Максим Владимирович</td>\n",
       "      <td>2021-10-12T01:18:05.801633+03:00</td>\n",
       "      <td>1754</td>\n",
       "      <td>/media/images/96/f9/96f98f03-50b2-43d3-9811-f2...</td>\n",
       "      <td>0.240</td>\n",
       "      <td>-</td>\n",
       "      <td>0.0</td>\n",
       "      <td>0.00</td>\n",
       "      <td>JL0000001754</td>\n",
       "      <td>ХатунцевМВ-В01</td>\n",
       "      <td>1</td>\n",
       "      <td>CC+</td>\n",
       "      <td>[{'date': '2021-11-12T00:00:00+03:00', 'fine':...</td>\n",
       "      <td>/media/images/96/f9/96f98f03-50b2-43d3-9811-f2...</td>\n",
       "      <td>/media/images/96/f9/96f98f03-50b2-43d3-9811-f2...</td>\n",
       "      <td>[1.0, 0, 0]</td>\n",
       "      <td>CC+</td>\n",
       "      <td>closed</td>\n",
       "      <td>360</td>\n",
       "    </tr>\n",
       "    <tr>\n",
       "      <th>3535</th>\n",
       "      <td>1500000.00</td>\n",
       "      <td>CCC</td>\n",
       "      <td>ИП Хатунцев Максим Владимирович</td>\n",
       "      <td>2022-01-26T09:52:31.345146+03:00</td>\n",
       "      <td>2147</td>\n",
       "      <td>/media/images/96/f9/96f98f03-50b2-43d3-9811-f2...</td>\n",
       "      <td>0.240</td>\n",
       "      <td>#933772, #933607, #933552</td>\n",
       "      <td>0.0</td>\n",
       "      <td>2754.25</td>\n",
       "      <td>JL0000002147</td>\n",
       "      <td>ХатунцевМВ-В02</td>\n",
       "      <td>2</td>\n",
       "      <td>CCC</td>\n",
       "      <td>[{'date': '2022-02-26T00:00:00+03:00', 'fine':...</td>\n",
       "      <td>/media/images/96/f9/96f98f03-50b2-43d3-9811-f2...</td>\n",
       "      <td>/media/images/96/f9/96f98f03-50b2-43d3-9811-f2...</td>\n",
       "      <td>[0.27105731999999993, 0, 0.7289426800000001]</td>\n",
       "      <td>CCC</td>\n",
       "      <td>default</td>\n",
       "      <td>516</td>\n",
       "    </tr>\n",
       "    <tr>\n",
       "      <th>3536</th>\n",
       "      <td>1333193.00</td>\n",
       "      <td>CC+</td>\n",
       "      <td>ООО \"БСК АЛЬФА\"</td>\n",
       "      <td>2021-02-11T00:00:00+03:00</td>\n",
       "      <td>1094</td>\n",
       "      <td>/media/images/d7aee7c8-3506-45a4-895e-6528ac61...</td>\n",
       "      <td>0.265</td>\n",
       "      <td>-</td>\n",
       "      <td>0.0</td>\n",
       "      <td>0.00</td>\n",
       "      <td>JL0000001094</td>\n",
       "      <td>БСКАЛЬФА-В01</td>\n",
       "      <td>1</td>\n",
       "      <td>CC+</td>\n",
       "      <td>[{'date': '2021-02-25T00:00:00+03:00', 'fine':...</td>\n",
       "      <td>/media/images/d7aee7c8-3506-45a4-895e-6528ac61...</td>\n",
       "      <td>/media/images/d7aee7c8-3506-45a4-895e-6528ac61...</td>\n",
       "      <td>[1.0, 0, 0]</td>\n",
       "      <td>CC+</td>\n",
       "      <td>closed</td>\n",
       "      <td>217</td>\n",
       "    </tr>\n",
       "  </tbody>\n",
       "</table>\n",
       "<p>3537 rows × 21 columns</p>\n",
       "</div>"
      ],
      "text/plain": [
       "          amount borrower_rating                            company  \\\n",
       "0      500000.00            BBB+                      ООО \"АГРООПТ\"   \n",
       "1     1500000.00            BBB+                      ООО \"АГРООПТ\"   \n",
       "2      898880.00               B            ООО \"УРАЛ СТРОЙ МОНТАЖ\"   \n",
       "3       50000.00            None            ООО НПО \"АЛЬФА КЕМИКАЛ\"   \n",
       "4      950000.00            None            ООО НПО \"АЛЬФА КЕМИКАЛ\"   \n",
       "...          ...             ...                                ...   \n",
       "3532    36200.00              CC  ИП Романовский Раймонд Леонидович   \n",
       "3533  5855200.00              CC  ИП Романовский Раймонд Леонидович   \n",
       "3534   500000.00             CCC    ИП Хатунцев Максим Владимирович   \n",
       "3535  1500000.00             CCC    ИП Хатунцев Максим Владимирович   \n",
       "3536  1333193.00             CC+                    ООО \"БСК АЛЬФА\"   \n",
       "\n",
       "                                  date     id  \\\n",
       "0            2020-09-28T00:00:00+03:00    856   \n",
       "1     2021-04-08T11:21:58.454711+03:00   1201   \n",
       "2            2020-09-04T00:00:00+03:00    805   \n",
       "3            2020-02-05T03:00:00+03:00    594   \n",
       "4            2020-02-05T03:00:00+03:00    595   \n",
       "...                                ...    ...   \n",
       "3532         2022-01-28T16:34:15+03:00  13848   \n",
       "3533         2022-01-28T16:34:15+03:00  13849   \n",
       "3534  2021-10-12T01:18:05.801633+03:00   1754   \n",
       "3535  2022-01-26T09:52:31.345146+03:00   2147   \n",
       "3536         2021-02-11T00:00:00+03:00   1094   \n",
       "\n",
       "                                              image_url  interest_rate  \\\n",
       "0     /media/images/ac/7a/ac7a4415-3b39-4d54-b9a0-00...          0.295   \n",
       "1     /media/images/ac/7a/ac7a4415-3b39-4d54-b9a0-00...          0.185   \n",
       "2     /media/images/84/6f/846f7dd8-a305-4dba-b01a-bc...          0.235   \n",
       "3     /media/images/63df1d86-a417-4b6f-9819-fa2b4d99...          0.250   \n",
       "4     /media/images/63df1d86-a417-4b6f-9819-fa2b4d99...          0.250   \n",
       "...                                                 ...            ...   \n",
       "3532  /media/images/9e966bfb-7bf8-4af3-b300-cd0baa5e...          0.200   \n",
       "3533  /media/images/9e966bfb-7bf8-4af3-b300-cd0baa5e...          0.200   \n",
       "3534  /media/images/96/f9/96f98f03-50b2-43d3-9811-f2...          0.240   \n",
       "3535  /media/images/96/f9/96f98f03-50b2-43d3-9811-f2...          0.240   \n",
       "3536  /media/images/d7aee7c8-3506-45a4-895e-6528ac61...          0.265   \n",
       "\n",
       "                      investing  investing_amount  investing_debt_amount  \\\n",
       "0                             -               0.0                   0.00   \n",
       "1                             -               0.0                   0.00   \n",
       "2                             -               0.0                   0.00   \n",
       "3                             -               0.0                   0.00   \n",
       "4                             -               0.0                   0.00   \n",
       "...                         ...               ...                    ...   \n",
       "3532                          -               0.0                   0.00   \n",
       "3533                          -               0.0                   0.00   \n",
       "3534                          -               0.0                   0.00   \n",
       "3535  #933772, #933607, #933552               0.0                2754.25   \n",
       "3536                          -               0.0                   0.00   \n",
       "\n",
       "         loan_isin         loan_name  loan_order loan_rating  \\\n",
       "0     JL0000000856       АГРООПТ-В01           1           C   \n",
       "1     JL0000001201       АГРООПТ-В02           2        BBB+   \n",
       "2     JL0000000805  УРАЛСТРОЙМОН-В01           1           B   \n",
       "3     JL0000000411  АЛЬФАКЕМИКАЛ-В02           2          B+   \n",
       "4     JL0000000411  АЛЬФАКЕМИКАЛ-В03           3          B+   \n",
       "...            ...               ...         ...         ...   \n",
       "3532  JL0000002237  РомановскийР-В12          12          CC   \n",
       "3533  JL0000002237  РомановскийР-В13          13          CC   \n",
       "3534  JL0000001754    ХатунцевМВ-В01           1         CC+   \n",
       "3535  JL0000002147    ХатунцевМВ-В02           2         CCC   \n",
       "3536  JL0000001094      БСКАЛЬФА-В01           1         CC+   \n",
       "\n",
       "                                               payments  \\\n",
       "0     [{'date': '2020-10-12T00:00:00+03:00', 'fine':...   \n",
       "1     [{'date': '2021-05-08T00:00:00+03:00', 'fine':...   \n",
       "2     [{'date': '2020-09-18T00:00:00+03:00', 'fine':...   \n",
       "3     [{'date': '2020-02-19T00:00:00+03:00', 'fine':...   \n",
       "4     [{'date': '2020-02-19T00:00:00+03:00', 'fine':...   \n",
       "...                                                 ...   \n",
       "3532  [{'date': '2022-02-28T00:00:00+03:00', 'fine':...   \n",
       "3533  [{'date': '2022-02-28T00:00:00+03:00', 'fine':...   \n",
       "3534  [{'date': '2021-11-12T00:00:00+03:00', 'fine':...   \n",
       "3535  [{'date': '2022-02-26T00:00:00+03:00', 'fine':...   \n",
       "3536  [{'date': '2021-02-25T00:00:00+03:00', 'fine':...   \n",
       "\n",
       "                                      preview_small_url  \\\n",
       "0     /media/images/ac/7a/ac7a4415-3b39-4d54-b9a0-00...   \n",
       "1     /media/images/ac/7a/ac7a4415-3b39-4d54-b9a0-00...   \n",
       "2     /media/images/84/6f/846f7dd8-a305-4dba-b01a-bc...   \n",
       "3     /media/images/63df1d86-a417-4b6f-9819-fa2b4d99...   \n",
       "4     /media/images/63df1d86-a417-4b6f-9819-fa2b4d99...   \n",
       "...                                                 ...   \n",
       "3532  /media/images/9e966bfb-7bf8-4af3-b300-cd0baa5e...   \n",
       "3533  /media/images/9e966bfb-7bf8-4af3-b300-cd0baa5e...   \n",
       "3534  /media/images/96/f9/96f98f03-50b2-43d3-9811-f2...   \n",
       "3535  /media/images/96/f9/96f98f03-50b2-43d3-9811-f2...   \n",
       "3536  /media/images/d7aee7c8-3506-45a4-895e-6528ac61...   \n",
       "\n",
       "                                            preview_url  \\\n",
       "0     /media/images/ac/7a/ac7a4415-3b39-4d54-b9a0-00...   \n",
       "1     /media/images/ac/7a/ac7a4415-3b39-4d54-b9a0-00...   \n",
       "2     /media/images/84/6f/846f7dd8-a305-4dba-b01a-bc...   \n",
       "3     /media/images/63df1d86-a417-4b6f-9819-fa2b4d99...   \n",
       "4     /media/images/63df1d86-a417-4b6f-9819-fa2b4d99...   \n",
       "...                                                 ...   \n",
       "3532  /media/images/9e966bfb-7bf8-4af3-b300-cd0baa5e...   \n",
       "3533  /media/images/9e966bfb-7bf8-4af3-b300-cd0baa5e...   \n",
       "3534  /media/images/96/f9/96f98f03-50b2-43d3-9811-f2...   \n",
       "3535  /media/images/96/f9/96f98f03-50b2-43d3-9811-f2...   \n",
       "3536  /media/images/d7aee7c8-3506-45a4-895e-6528ac61...   \n",
       "\n",
       "                                           progress rating   status  term  \n",
       "0                                       [1.0, 0, 0]      C   closed   186  \n",
       "1                                       [1.0, 0, 0]   BBB+   closed   365  \n",
       "2                                       [1.0, 0, 0]      B   closed   217  \n",
       "3       [0.8386895999999999, 0, 0.1613104000000001]     B+  default   182  \n",
       "4      [0.38349631578947363, 0, 0.6165036842105264]     B+  default   182  \n",
       "...                                             ...    ...      ...   ...  \n",
       "3532  [-0.04973784530386749, 0, 1.0497378453038675]     CC  default  1098  \n",
       "3533   [0.05939465090859419, 0, 0.9406053490914058]     CC  default  1407  \n",
       "3534                                    [1.0, 0, 0]    CC+   closed   360  \n",
       "3535   [0.27105731999999993, 0, 0.7289426800000001]    CCC  default   516  \n",
       "3536                                    [1.0, 0, 0]    CC+   closed   217  \n",
       "\n",
       "[3537 rows x 21 columns]"
      ]
     },
     "execution_count": 81,
     "metadata": {},
     "output_type": "execute_result"
    }
   ],
   "source": [
    "df"
   ]
  },
  {
   "cell_type": "code",
   "execution_count": 83,
   "metadata": {},
   "outputs": [
    {
     "data": {
      "text/html": [
       "<div>\n",
       "<style scoped>\n",
       "    .dataframe tbody tr th:only-of-type {\n",
       "        vertical-align: middle;\n",
       "    }\n",
       "\n",
       "    .dataframe tbody tr th {\n",
       "        vertical-align: top;\n",
       "    }\n",
       "\n",
       "    .dataframe thead th {\n",
       "        text-align: right;\n",
       "    }\n",
       "</style>\n",
       "<table border=\"1\" class=\"dataframe\">\n",
       "  <thead>\n",
       "    <tr style=\"text-align: right;\">\n",
       "      <th></th>\n",
       "      <th>rating</th>\n",
       "      <th>status</th>\n",
       "    </tr>\n",
       "  </thead>\n",
       "  <tbody>\n",
       "    <tr>\n",
       "      <th>0</th>\n",
       "      <td></td>\n",
       "      <td>100.000000</td>\n",
       "    </tr>\n",
       "    <tr>\n",
       "      <th>1</th>\n",
       "      <td>A</td>\n",
       "      <td>4.761905</td>\n",
       "    </tr>\n",
       "    <tr>\n",
       "      <th>2</th>\n",
       "      <td>A+</td>\n",
       "      <td>0.000000</td>\n",
       "    </tr>\n",
       "    <tr>\n",
       "      <th>3</th>\n",
       "      <td>AA</td>\n",
       "      <td>4.210526</td>\n",
       "    </tr>\n",
       "    <tr>\n",
       "      <th>4</th>\n",
       "      <td>AA+</td>\n",
       "      <td>0.000000</td>\n",
       "    </tr>\n",
       "    <tr>\n",
       "      <th>5</th>\n",
       "      <td>AAA</td>\n",
       "      <td>0.000000</td>\n",
       "    </tr>\n",
       "    <tr>\n",
       "      <th>6</th>\n",
       "      <td>AAA+</td>\n",
       "      <td>0.000000</td>\n",
       "    </tr>\n",
       "    <tr>\n",
       "      <th>7</th>\n",
       "      <td>B</td>\n",
       "      <td>9.893048</td>\n",
       "    </tr>\n",
       "    <tr>\n",
       "      <th>8</th>\n",
       "      <td>B+</td>\n",
       "      <td>10.554090</td>\n",
       "    </tr>\n",
       "    <tr>\n",
       "      <th>9</th>\n",
       "      <td>BB</td>\n",
       "      <td>11.228070</td>\n",
       "    </tr>\n",
       "    <tr>\n",
       "      <th>10</th>\n",
       "      <td>BB+</td>\n",
       "      <td>6.424581</td>\n",
       "    </tr>\n",
       "    <tr>\n",
       "      <th>11</th>\n",
       "      <td>BBB</td>\n",
       "      <td>4.093567</td>\n",
       "    </tr>\n",
       "    <tr>\n",
       "      <th>12</th>\n",
       "      <td>BBB+</td>\n",
       "      <td>1.183432</td>\n",
       "    </tr>\n",
       "    <tr>\n",
       "      <th>13</th>\n",
       "      <td>C</td>\n",
       "      <td>14.529915</td>\n",
       "    </tr>\n",
       "    <tr>\n",
       "      <th>14</th>\n",
       "      <td>C+</td>\n",
       "      <td>4.790419</td>\n",
       "    </tr>\n",
       "    <tr>\n",
       "      <th>15</th>\n",
       "      <td>CC</td>\n",
       "      <td>16.062176</td>\n",
       "    </tr>\n",
       "    <tr>\n",
       "      <th>16</th>\n",
       "      <td>CC+</td>\n",
       "      <td>11.946903</td>\n",
       "    </tr>\n",
       "    <tr>\n",
       "      <th>17</th>\n",
       "      <td>CCC</td>\n",
       "      <td>7.782101</td>\n",
       "    </tr>\n",
       "    <tr>\n",
       "      <th>18</th>\n",
       "      <td>CCC+</td>\n",
       "      <td>4.864865</td>\n",
       "    </tr>\n",
       "  </tbody>\n",
       "</table>\n",
       "</div>"
      ],
      "text/plain": [
       "   rating      status\n",
       "0          100.000000\n",
       "1       A    4.761905\n",
       "2      A+    0.000000\n",
       "3      AA    4.210526\n",
       "4     AA+    0.000000\n",
       "5     AAA    0.000000\n",
       "6    AAA+    0.000000\n",
       "7       B    9.893048\n",
       "8      B+   10.554090\n",
       "9      BB   11.228070\n",
       "10    BB+    6.424581\n",
       "11    BBB    4.093567\n",
       "12   BBB+    1.183432\n",
       "13      C   14.529915\n",
       "14     C+    4.790419\n",
       "15     CC   16.062176\n",
       "16    CC+   11.946903\n",
       "17    CCC    7.782101\n",
       "18   CCC+    4.864865"
      ]
     },
     "execution_count": 83,
     "metadata": {},
     "output_type": "execute_result"
    }
   ],
   "source": [
    "percentage_df"
   ]
  },
  {
   "cell_type": "code",
   "execution_count": 87,
   "metadata": {},
   "outputs": [
    {
     "data": {
      "application/vnd.plotly.v1+json": {
       "config": {
        "plotlyServerURL": "https://plot.ly"
       },
       "data": [
        {
         "alignmentgroup": "True",
         "hovertemplate": "rating=%{x}<br>Percentage of Default=%{y}<extra></extra>",
         "legendgroup": "",
         "marker": {
          "color": "#636efa",
          "pattern": {
           "shape": ""
          }
         },
         "name": "",
         "offsetgroup": "",
         "orientation": "v",
         "showlegend": false,
         "textposition": "auto",
         "type": "bar",
         "x": [
          "A",
          "A+",
          "AA",
          "AA+",
          "AAA",
          "AAA+",
          "B",
          "B+",
          "BB",
          "BB+",
          "BBB",
          "BBB+",
          "C",
          "C+",
          "CC",
          "CC+",
          "CCC",
          "CCC+"
         ],
         "xaxis": "x",
         "y": [
          4.761904761904762,
          0,
          4.2105263157894735,
          0,
          0,
          0,
          9.893048128342247,
          10.554089709762533,
          11.228070175438596,
          6.424581005586592,
          4.093567251461988,
          1.183431952662722,
          14.529914529914532,
          4.790419161676647,
          16.06217616580311,
          11.946902654867257,
          7.782101167315175,
          4.864864864864865
         ],
         "yaxis": "y"
        }
       ],
       "layout": {
        "barmode": "relative",
        "legend": {
         "tracegroupgap": 0
        },
        "margin": {
         "t": 60
        },
        "template": {
         "data": {
          "bar": [
           {
            "error_x": {
             "color": "#2a3f5f"
            },
            "error_y": {
             "color": "#2a3f5f"
            },
            "marker": {
             "line": {
              "color": "#E5ECF6",
              "width": 0.5
             },
             "pattern": {
              "fillmode": "overlay",
              "size": 10,
              "solidity": 0.2
             }
            },
            "type": "bar"
           }
          ],
          "barpolar": [
           {
            "marker": {
             "line": {
              "color": "#E5ECF6",
              "width": 0.5
             },
             "pattern": {
              "fillmode": "overlay",
              "size": 10,
              "solidity": 0.2
             }
            },
            "type": "barpolar"
           }
          ],
          "carpet": [
           {
            "aaxis": {
             "endlinecolor": "#2a3f5f",
             "gridcolor": "white",
             "linecolor": "white",
             "minorgridcolor": "white",
             "startlinecolor": "#2a3f5f"
            },
            "baxis": {
             "endlinecolor": "#2a3f5f",
             "gridcolor": "white",
             "linecolor": "white",
             "minorgridcolor": "white",
             "startlinecolor": "#2a3f5f"
            },
            "type": "carpet"
           }
          ],
          "choropleth": [
           {
            "colorbar": {
             "outlinewidth": 0,
             "ticks": ""
            },
            "type": "choropleth"
           }
          ],
          "contour": [
           {
            "colorbar": {
             "outlinewidth": 0,
             "ticks": ""
            },
            "colorscale": [
             [
              0,
              "#0d0887"
             ],
             [
              0.1111111111111111,
              "#46039f"
             ],
             [
              0.2222222222222222,
              "#7201a8"
             ],
             [
              0.3333333333333333,
              "#9c179e"
             ],
             [
              0.4444444444444444,
              "#bd3786"
             ],
             [
              0.5555555555555556,
              "#d8576b"
             ],
             [
              0.6666666666666666,
              "#ed7953"
             ],
             [
              0.7777777777777778,
              "#fb9f3a"
             ],
             [
              0.8888888888888888,
              "#fdca26"
             ],
             [
              1,
              "#f0f921"
             ]
            ],
            "type": "contour"
           }
          ],
          "contourcarpet": [
           {
            "colorbar": {
             "outlinewidth": 0,
             "ticks": ""
            },
            "type": "contourcarpet"
           }
          ],
          "heatmap": [
           {
            "colorbar": {
             "outlinewidth": 0,
             "ticks": ""
            },
            "colorscale": [
             [
              0,
              "#0d0887"
             ],
             [
              0.1111111111111111,
              "#46039f"
             ],
             [
              0.2222222222222222,
              "#7201a8"
             ],
             [
              0.3333333333333333,
              "#9c179e"
             ],
             [
              0.4444444444444444,
              "#bd3786"
             ],
             [
              0.5555555555555556,
              "#d8576b"
             ],
             [
              0.6666666666666666,
              "#ed7953"
             ],
             [
              0.7777777777777778,
              "#fb9f3a"
             ],
             [
              0.8888888888888888,
              "#fdca26"
             ],
             [
              1,
              "#f0f921"
             ]
            ],
            "type": "heatmap"
           }
          ],
          "heatmapgl": [
           {
            "colorbar": {
             "outlinewidth": 0,
             "ticks": ""
            },
            "colorscale": [
             [
              0,
              "#0d0887"
             ],
             [
              0.1111111111111111,
              "#46039f"
             ],
             [
              0.2222222222222222,
              "#7201a8"
             ],
             [
              0.3333333333333333,
              "#9c179e"
             ],
             [
              0.4444444444444444,
              "#bd3786"
             ],
             [
              0.5555555555555556,
              "#d8576b"
             ],
             [
              0.6666666666666666,
              "#ed7953"
             ],
             [
              0.7777777777777778,
              "#fb9f3a"
             ],
             [
              0.8888888888888888,
              "#fdca26"
             ],
             [
              1,
              "#f0f921"
             ]
            ],
            "type": "heatmapgl"
           }
          ],
          "histogram": [
           {
            "marker": {
             "pattern": {
              "fillmode": "overlay",
              "size": 10,
              "solidity": 0.2
             }
            },
            "type": "histogram"
           }
          ],
          "histogram2d": [
           {
            "colorbar": {
             "outlinewidth": 0,
             "ticks": ""
            },
            "colorscale": [
             [
              0,
              "#0d0887"
             ],
             [
              0.1111111111111111,
              "#46039f"
             ],
             [
              0.2222222222222222,
              "#7201a8"
             ],
             [
              0.3333333333333333,
              "#9c179e"
             ],
             [
              0.4444444444444444,
              "#bd3786"
             ],
             [
              0.5555555555555556,
              "#d8576b"
             ],
             [
              0.6666666666666666,
              "#ed7953"
             ],
             [
              0.7777777777777778,
              "#fb9f3a"
             ],
             [
              0.8888888888888888,
              "#fdca26"
             ],
             [
              1,
              "#f0f921"
             ]
            ],
            "type": "histogram2d"
           }
          ],
          "histogram2dcontour": [
           {
            "colorbar": {
             "outlinewidth": 0,
             "ticks": ""
            },
            "colorscale": [
             [
              0,
              "#0d0887"
             ],
             [
              0.1111111111111111,
              "#46039f"
             ],
             [
              0.2222222222222222,
              "#7201a8"
             ],
             [
              0.3333333333333333,
              "#9c179e"
             ],
             [
              0.4444444444444444,
              "#bd3786"
             ],
             [
              0.5555555555555556,
              "#d8576b"
             ],
             [
              0.6666666666666666,
              "#ed7953"
             ],
             [
              0.7777777777777778,
              "#fb9f3a"
             ],
             [
              0.8888888888888888,
              "#fdca26"
             ],
             [
              1,
              "#f0f921"
             ]
            ],
            "type": "histogram2dcontour"
           }
          ],
          "mesh3d": [
           {
            "colorbar": {
             "outlinewidth": 0,
             "ticks": ""
            },
            "type": "mesh3d"
           }
          ],
          "parcoords": [
           {
            "line": {
             "colorbar": {
              "outlinewidth": 0,
              "ticks": ""
             }
            },
            "type": "parcoords"
           }
          ],
          "pie": [
           {
            "automargin": true,
            "type": "pie"
           }
          ],
          "scatter": [
           {
            "fillpattern": {
             "fillmode": "overlay",
             "size": 10,
             "solidity": 0.2
            },
            "type": "scatter"
           }
          ],
          "scatter3d": [
           {
            "line": {
             "colorbar": {
              "outlinewidth": 0,
              "ticks": ""
             }
            },
            "marker": {
             "colorbar": {
              "outlinewidth": 0,
              "ticks": ""
             }
            },
            "type": "scatter3d"
           }
          ],
          "scattercarpet": [
           {
            "marker": {
             "colorbar": {
              "outlinewidth": 0,
              "ticks": ""
             }
            },
            "type": "scattercarpet"
           }
          ],
          "scattergeo": [
           {
            "marker": {
             "colorbar": {
              "outlinewidth": 0,
              "ticks": ""
             }
            },
            "type": "scattergeo"
           }
          ],
          "scattergl": [
           {
            "marker": {
             "colorbar": {
              "outlinewidth": 0,
              "ticks": ""
             }
            },
            "type": "scattergl"
           }
          ],
          "scattermapbox": [
           {
            "marker": {
             "colorbar": {
              "outlinewidth": 0,
              "ticks": ""
             }
            },
            "type": "scattermapbox"
           }
          ],
          "scatterpolar": [
           {
            "marker": {
             "colorbar": {
              "outlinewidth": 0,
              "ticks": ""
             }
            },
            "type": "scatterpolar"
           }
          ],
          "scatterpolargl": [
           {
            "marker": {
             "colorbar": {
              "outlinewidth": 0,
              "ticks": ""
             }
            },
            "type": "scatterpolargl"
           }
          ],
          "scatterternary": [
           {
            "marker": {
             "colorbar": {
              "outlinewidth": 0,
              "ticks": ""
             }
            },
            "type": "scatterternary"
           }
          ],
          "surface": [
           {
            "colorbar": {
             "outlinewidth": 0,
             "ticks": ""
            },
            "colorscale": [
             [
              0,
              "#0d0887"
             ],
             [
              0.1111111111111111,
              "#46039f"
             ],
             [
              0.2222222222222222,
              "#7201a8"
             ],
             [
              0.3333333333333333,
              "#9c179e"
             ],
             [
              0.4444444444444444,
              "#bd3786"
             ],
             [
              0.5555555555555556,
              "#d8576b"
             ],
             [
              0.6666666666666666,
              "#ed7953"
             ],
             [
              0.7777777777777778,
              "#fb9f3a"
             ],
             [
              0.8888888888888888,
              "#fdca26"
             ],
             [
              1,
              "#f0f921"
             ]
            ],
            "type": "surface"
           }
          ],
          "table": [
           {
            "cells": {
             "fill": {
              "color": "#EBF0F8"
             },
             "line": {
              "color": "white"
             }
            },
            "header": {
             "fill": {
              "color": "#C8D4E3"
             },
             "line": {
              "color": "white"
             }
            },
            "type": "table"
           }
          ]
         },
         "layout": {
          "annotationdefaults": {
           "arrowcolor": "#2a3f5f",
           "arrowhead": 0,
           "arrowwidth": 1
          },
          "autotypenumbers": "strict",
          "coloraxis": {
           "colorbar": {
            "outlinewidth": 0,
            "ticks": ""
           }
          },
          "colorscale": {
           "diverging": [
            [
             0,
             "#8e0152"
            ],
            [
             0.1,
             "#c51b7d"
            ],
            [
             0.2,
             "#de77ae"
            ],
            [
             0.3,
             "#f1b6da"
            ],
            [
             0.4,
             "#fde0ef"
            ],
            [
             0.5,
             "#f7f7f7"
            ],
            [
             0.6,
             "#e6f5d0"
            ],
            [
             0.7,
             "#b8e186"
            ],
            [
             0.8,
             "#7fbc41"
            ],
            [
             0.9,
             "#4d9221"
            ],
            [
             1,
             "#276419"
            ]
           ],
           "sequential": [
            [
             0,
             "#0d0887"
            ],
            [
             0.1111111111111111,
             "#46039f"
            ],
            [
             0.2222222222222222,
             "#7201a8"
            ],
            [
             0.3333333333333333,
             "#9c179e"
            ],
            [
             0.4444444444444444,
             "#bd3786"
            ],
            [
             0.5555555555555556,
             "#d8576b"
            ],
            [
             0.6666666666666666,
             "#ed7953"
            ],
            [
             0.7777777777777778,
             "#fb9f3a"
            ],
            [
             0.8888888888888888,
             "#fdca26"
            ],
            [
             1,
             "#f0f921"
            ]
           ],
           "sequentialminus": [
            [
             0,
             "#0d0887"
            ],
            [
             0.1111111111111111,
             "#46039f"
            ],
            [
             0.2222222222222222,
             "#7201a8"
            ],
            [
             0.3333333333333333,
             "#9c179e"
            ],
            [
             0.4444444444444444,
             "#bd3786"
            ],
            [
             0.5555555555555556,
             "#d8576b"
            ],
            [
             0.6666666666666666,
             "#ed7953"
            ],
            [
             0.7777777777777778,
             "#fb9f3a"
            ],
            [
             0.8888888888888888,
             "#fdca26"
            ],
            [
             1,
             "#f0f921"
            ]
           ]
          },
          "colorway": [
           "#636efa",
           "#EF553B",
           "#00cc96",
           "#ab63fa",
           "#FFA15A",
           "#19d3f3",
           "#FF6692",
           "#B6E880",
           "#FF97FF",
           "#FECB52"
          ],
          "font": {
           "color": "#2a3f5f"
          },
          "geo": {
           "bgcolor": "white",
           "lakecolor": "white",
           "landcolor": "#E5ECF6",
           "showlakes": true,
           "showland": true,
           "subunitcolor": "white"
          },
          "hoverlabel": {
           "align": "left"
          },
          "hovermode": "closest",
          "mapbox": {
           "style": "light"
          },
          "paper_bgcolor": "white",
          "plot_bgcolor": "#E5ECF6",
          "polar": {
           "angularaxis": {
            "gridcolor": "white",
            "linecolor": "white",
            "ticks": ""
           },
           "bgcolor": "#E5ECF6",
           "radialaxis": {
            "gridcolor": "white",
            "linecolor": "white",
            "ticks": ""
           }
          },
          "scene": {
           "xaxis": {
            "backgroundcolor": "#E5ECF6",
            "gridcolor": "white",
            "gridwidth": 2,
            "linecolor": "white",
            "showbackground": true,
            "ticks": "",
            "zerolinecolor": "white"
           },
           "yaxis": {
            "backgroundcolor": "#E5ECF6",
            "gridcolor": "white",
            "gridwidth": 2,
            "linecolor": "white",
            "showbackground": true,
            "ticks": "",
            "zerolinecolor": "white"
           },
           "zaxis": {
            "backgroundcolor": "#E5ECF6",
            "gridcolor": "white",
            "gridwidth": 2,
            "linecolor": "white",
            "showbackground": true,
            "ticks": "",
            "zerolinecolor": "white"
           }
          },
          "shapedefaults": {
           "line": {
            "color": "#2a3f5f"
           }
          },
          "ternary": {
           "aaxis": {
            "gridcolor": "white",
            "linecolor": "white",
            "ticks": ""
           },
           "baxis": {
            "gridcolor": "white",
            "linecolor": "white",
            "ticks": ""
           },
           "bgcolor": "#E5ECF6",
           "caxis": {
            "gridcolor": "white",
            "linecolor": "white",
            "ticks": ""
           }
          },
          "title": {
           "x": 0.05
          },
          "xaxis": {
           "automargin": true,
           "gridcolor": "white",
           "linecolor": "white",
           "ticks": "",
           "title": {
            "standoff": 15
           },
           "zerolinecolor": "white",
           "zerolinewidth": 2
          },
          "yaxis": {
           "automargin": true,
           "gridcolor": "white",
           "linecolor": "white",
           "ticks": "",
           "title": {
            "standoff": 15
           },
           "zerolinecolor": "white",
           "zerolinewidth": 2
          }
         }
        },
        "xaxis": {
         "anchor": "y",
         "domain": [
          0,
          1
         ],
         "title": {
          "text": "rating"
         }
        },
        "yaxis": {
         "anchor": "x",
         "domain": [
          0,
          1
         ],
         "title": {
          "text": "Percentage of Default"
         }
        }
       }
      },
      "text/html": [
       "<div>                            <div id=\"d55602dd-469e-4eb4-8947-e223d7bf61de\" class=\"plotly-graph-div\" style=\"height:525px; width:100%;\"></div>            <script type=\"text/javascript\">                require([\"plotly\"], function(Plotly) {                    window.PLOTLYENV=window.PLOTLYENV || {};                                    if (document.getElementById(\"d55602dd-469e-4eb4-8947-e223d7bf61de\")) {                    Plotly.newPlot(                        \"d55602dd-469e-4eb4-8947-e223d7bf61de\",                        [{\"alignmentgroup\":\"True\",\"hovertemplate\":\"rating=%{x}\\u003cbr\\u003ePercentage of Default=%{y}\\u003cextra\\u003e\\u003c\\u002fextra\\u003e\",\"legendgroup\":\"\",\"marker\":{\"color\":\"#636efa\",\"pattern\":{\"shape\":\"\"}},\"name\":\"\",\"offsetgroup\":\"\",\"orientation\":\"v\",\"showlegend\":false,\"textposition\":\"auto\",\"x\":[\"A\",\"A+\",\"AA\",\"AA+\",\"AAA\",\"AAA+\",\"B\",\"B+\",\"BB\",\"BB+\",\"BBB\",\"BBB+\",\"C\",\"C+\",\"CC\",\"CC+\",\"CCC\",\"CCC+\"],\"xaxis\":\"x\",\"y\":[4.761904761904762,0.0,4.2105263157894735,0.0,0.0,0.0,9.893048128342247,10.554089709762533,11.228070175438596,6.424581005586592,4.093567251461988,1.183431952662722,14.529914529914532,4.790419161676647,16.06217616580311,11.946902654867257,7.782101167315175,4.864864864864865],\"yaxis\":\"y\",\"type\":\"bar\"}],                        {\"template\":{\"data\":{\"histogram2dcontour\":[{\"type\":\"histogram2dcontour\",\"colorbar\":{\"outlinewidth\":0,\"ticks\":\"\"},\"colorscale\":[[0.0,\"#0d0887\"],[0.1111111111111111,\"#46039f\"],[0.2222222222222222,\"#7201a8\"],[0.3333333333333333,\"#9c179e\"],[0.4444444444444444,\"#bd3786\"],[0.5555555555555556,\"#d8576b\"],[0.6666666666666666,\"#ed7953\"],[0.7777777777777778,\"#fb9f3a\"],[0.8888888888888888,\"#fdca26\"],[1.0,\"#f0f921\"]]}],\"choropleth\":[{\"type\":\"choropleth\",\"colorbar\":{\"outlinewidth\":0,\"ticks\":\"\"}}],\"histogram2d\":[{\"type\":\"histogram2d\",\"colorbar\":{\"outlinewidth\":0,\"ticks\":\"\"},\"colorscale\":[[0.0,\"#0d0887\"],[0.1111111111111111,\"#46039f\"],[0.2222222222222222,\"#7201a8\"],[0.3333333333333333,\"#9c179e\"],[0.4444444444444444,\"#bd3786\"],[0.5555555555555556,\"#d8576b\"],[0.6666666666666666,\"#ed7953\"],[0.7777777777777778,\"#fb9f3a\"],[0.8888888888888888,\"#fdca26\"],[1.0,\"#f0f921\"]]}],\"heatmap\":[{\"type\":\"heatmap\",\"colorbar\":{\"outlinewidth\":0,\"ticks\":\"\"},\"colorscale\":[[0.0,\"#0d0887\"],[0.1111111111111111,\"#46039f\"],[0.2222222222222222,\"#7201a8\"],[0.3333333333333333,\"#9c179e\"],[0.4444444444444444,\"#bd3786\"],[0.5555555555555556,\"#d8576b\"],[0.6666666666666666,\"#ed7953\"],[0.7777777777777778,\"#fb9f3a\"],[0.8888888888888888,\"#fdca26\"],[1.0,\"#f0f921\"]]}],\"heatmapgl\":[{\"type\":\"heatmapgl\",\"colorbar\":{\"outlinewidth\":0,\"ticks\":\"\"},\"colorscale\":[[0.0,\"#0d0887\"],[0.1111111111111111,\"#46039f\"],[0.2222222222222222,\"#7201a8\"],[0.3333333333333333,\"#9c179e\"],[0.4444444444444444,\"#bd3786\"],[0.5555555555555556,\"#d8576b\"],[0.6666666666666666,\"#ed7953\"],[0.7777777777777778,\"#fb9f3a\"],[0.8888888888888888,\"#fdca26\"],[1.0,\"#f0f921\"]]}],\"contourcarpet\":[{\"type\":\"contourcarpet\",\"colorbar\":{\"outlinewidth\":0,\"ticks\":\"\"}}],\"contour\":[{\"type\":\"contour\",\"colorbar\":{\"outlinewidth\":0,\"ticks\":\"\"},\"colorscale\":[[0.0,\"#0d0887\"],[0.1111111111111111,\"#46039f\"],[0.2222222222222222,\"#7201a8\"],[0.3333333333333333,\"#9c179e\"],[0.4444444444444444,\"#bd3786\"],[0.5555555555555556,\"#d8576b\"],[0.6666666666666666,\"#ed7953\"],[0.7777777777777778,\"#fb9f3a\"],[0.8888888888888888,\"#fdca26\"],[1.0,\"#f0f921\"]]}],\"surface\":[{\"type\":\"surface\",\"colorbar\":{\"outlinewidth\":0,\"ticks\":\"\"},\"colorscale\":[[0.0,\"#0d0887\"],[0.1111111111111111,\"#46039f\"],[0.2222222222222222,\"#7201a8\"],[0.3333333333333333,\"#9c179e\"],[0.4444444444444444,\"#bd3786\"],[0.5555555555555556,\"#d8576b\"],[0.6666666666666666,\"#ed7953\"],[0.7777777777777778,\"#fb9f3a\"],[0.8888888888888888,\"#fdca26\"],[1.0,\"#f0f921\"]]}],\"mesh3d\":[{\"type\":\"mesh3d\",\"colorbar\":{\"outlinewidth\":0,\"ticks\":\"\"}}],\"scatter\":[{\"fillpattern\":{\"fillmode\":\"overlay\",\"size\":10,\"solidity\":0.2},\"type\":\"scatter\"}],\"parcoords\":[{\"type\":\"parcoords\",\"line\":{\"colorbar\":{\"outlinewidth\":0,\"ticks\":\"\"}}}],\"scatterpolargl\":[{\"type\":\"scatterpolargl\",\"marker\":{\"colorbar\":{\"outlinewidth\":0,\"ticks\":\"\"}}}],\"bar\":[{\"error_x\":{\"color\":\"#2a3f5f\"},\"error_y\":{\"color\":\"#2a3f5f\"},\"marker\":{\"line\":{\"color\":\"#E5ECF6\",\"width\":0.5},\"pattern\":{\"fillmode\":\"overlay\",\"size\":10,\"solidity\":0.2}},\"type\":\"bar\"}],\"scattergeo\":[{\"type\":\"scattergeo\",\"marker\":{\"colorbar\":{\"outlinewidth\":0,\"ticks\":\"\"}}}],\"scatterpolar\":[{\"type\":\"scatterpolar\",\"marker\":{\"colorbar\":{\"outlinewidth\":0,\"ticks\":\"\"}}}],\"histogram\":[{\"marker\":{\"pattern\":{\"fillmode\":\"overlay\",\"size\":10,\"solidity\":0.2}},\"type\":\"histogram\"}],\"scattergl\":[{\"type\":\"scattergl\",\"marker\":{\"colorbar\":{\"outlinewidth\":0,\"ticks\":\"\"}}}],\"scatter3d\":[{\"type\":\"scatter3d\",\"line\":{\"colorbar\":{\"outlinewidth\":0,\"ticks\":\"\"}},\"marker\":{\"colorbar\":{\"outlinewidth\":0,\"ticks\":\"\"}}}],\"scattermapbox\":[{\"type\":\"scattermapbox\",\"marker\":{\"colorbar\":{\"outlinewidth\":0,\"ticks\":\"\"}}}],\"scatterternary\":[{\"type\":\"scatterternary\",\"marker\":{\"colorbar\":{\"outlinewidth\":0,\"ticks\":\"\"}}}],\"scattercarpet\":[{\"type\":\"scattercarpet\",\"marker\":{\"colorbar\":{\"outlinewidth\":0,\"ticks\":\"\"}}}],\"carpet\":[{\"aaxis\":{\"endlinecolor\":\"#2a3f5f\",\"gridcolor\":\"white\",\"linecolor\":\"white\",\"minorgridcolor\":\"white\",\"startlinecolor\":\"#2a3f5f\"},\"baxis\":{\"endlinecolor\":\"#2a3f5f\",\"gridcolor\":\"white\",\"linecolor\":\"white\",\"minorgridcolor\":\"white\",\"startlinecolor\":\"#2a3f5f\"},\"type\":\"carpet\"}],\"table\":[{\"cells\":{\"fill\":{\"color\":\"#EBF0F8\"},\"line\":{\"color\":\"white\"}},\"header\":{\"fill\":{\"color\":\"#C8D4E3\"},\"line\":{\"color\":\"white\"}},\"type\":\"table\"}],\"barpolar\":[{\"marker\":{\"line\":{\"color\":\"#E5ECF6\",\"width\":0.5},\"pattern\":{\"fillmode\":\"overlay\",\"size\":10,\"solidity\":0.2}},\"type\":\"barpolar\"}],\"pie\":[{\"automargin\":true,\"type\":\"pie\"}]},\"layout\":{\"autotypenumbers\":\"strict\",\"colorway\":[\"#636efa\",\"#EF553B\",\"#00cc96\",\"#ab63fa\",\"#FFA15A\",\"#19d3f3\",\"#FF6692\",\"#B6E880\",\"#FF97FF\",\"#FECB52\"],\"font\":{\"color\":\"#2a3f5f\"},\"hovermode\":\"closest\",\"hoverlabel\":{\"align\":\"left\"},\"paper_bgcolor\":\"white\",\"plot_bgcolor\":\"#E5ECF6\",\"polar\":{\"bgcolor\":\"#E5ECF6\",\"angularaxis\":{\"gridcolor\":\"white\",\"linecolor\":\"white\",\"ticks\":\"\"},\"radialaxis\":{\"gridcolor\":\"white\",\"linecolor\":\"white\",\"ticks\":\"\"}},\"ternary\":{\"bgcolor\":\"#E5ECF6\",\"aaxis\":{\"gridcolor\":\"white\",\"linecolor\":\"white\",\"ticks\":\"\"},\"baxis\":{\"gridcolor\":\"white\",\"linecolor\":\"white\",\"ticks\":\"\"},\"caxis\":{\"gridcolor\":\"white\",\"linecolor\":\"white\",\"ticks\":\"\"}},\"coloraxis\":{\"colorbar\":{\"outlinewidth\":0,\"ticks\":\"\"}},\"colorscale\":{\"sequential\":[[0.0,\"#0d0887\"],[0.1111111111111111,\"#46039f\"],[0.2222222222222222,\"#7201a8\"],[0.3333333333333333,\"#9c179e\"],[0.4444444444444444,\"#bd3786\"],[0.5555555555555556,\"#d8576b\"],[0.6666666666666666,\"#ed7953\"],[0.7777777777777778,\"#fb9f3a\"],[0.8888888888888888,\"#fdca26\"],[1.0,\"#f0f921\"]],\"sequentialminus\":[[0.0,\"#0d0887\"],[0.1111111111111111,\"#46039f\"],[0.2222222222222222,\"#7201a8\"],[0.3333333333333333,\"#9c179e\"],[0.4444444444444444,\"#bd3786\"],[0.5555555555555556,\"#d8576b\"],[0.6666666666666666,\"#ed7953\"],[0.7777777777777778,\"#fb9f3a\"],[0.8888888888888888,\"#fdca26\"],[1.0,\"#f0f921\"]],\"diverging\":[[0,\"#8e0152\"],[0.1,\"#c51b7d\"],[0.2,\"#de77ae\"],[0.3,\"#f1b6da\"],[0.4,\"#fde0ef\"],[0.5,\"#f7f7f7\"],[0.6,\"#e6f5d0\"],[0.7,\"#b8e186\"],[0.8,\"#7fbc41\"],[0.9,\"#4d9221\"],[1,\"#276419\"]]},\"xaxis\":{\"gridcolor\":\"white\",\"linecolor\":\"white\",\"ticks\":\"\",\"title\":{\"standoff\":15},\"zerolinecolor\":\"white\",\"automargin\":true,\"zerolinewidth\":2},\"yaxis\":{\"gridcolor\":\"white\",\"linecolor\":\"white\",\"ticks\":\"\",\"title\":{\"standoff\":15},\"zerolinecolor\":\"white\",\"automargin\":true,\"zerolinewidth\":2},\"scene\":{\"xaxis\":{\"backgroundcolor\":\"#E5ECF6\",\"gridcolor\":\"white\",\"linecolor\":\"white\",\"showbackground\":true,\"ticks\":\"\",\"zerolinecolor\":\"white\",\"gridwidth\":2},\"yaxis\":{\"backgroundcolor\":\"#E5ECF6\",\"gridcolor\":\"white\",\"linecolor\":\"white\",\"showbackground\":true,\"ticks\":\"\",\"zerolinecolor\":\"white\",\"gridwidth\":2},\"zaxis\":{\"backgroundcolor\":\"#E5ECF6\",\"gridcolor\":\"white\",\"linecolor\":\"white\",\"showbackground\":true,\"ticks\":\"\",\"zerolinecolor\":\"white\",\"gridwidth\":2}},\"shapedefaults\":{\"line\":{\"color\":\"#2a3f5f\"}},\"annotationdefaults\":{\"arrowcolor\":\"#2a3f5f\",\"arrowhead\":0,\"arrowwidth\":1},\"geo\":{\"bgcolor\":\"white\",\"landcolor\":\"#E5ECF6\",\"subunitcolor\":\"white\",\"showland\":true,\"showlakes\":true,\"lakecolor\":\"white\"},\"title\":{\"x\":0.05},\"mapbox\":{\"style\":\"light\"}}},\"xaxis\":{\"anchor\":\"y\",\"domain\":[0.0,1.0],\"title\":{\"text\":\"rating\"}},\"yaxis\":{\"anchor\":\"x\",\"domain\":[0.0,1.0],\"title\":{\"text\":\"Percentage of Default\"}},\"legend\":{\"tracegroupgap\":0},\"margin\":{\"t\":60},\"barmode\":\"relative\"},                        {\"responsive\": true}                    ).then(function(){\n",
       "                            \n",
       "var gd = document.getElementById('d55602dd-469e-4eb4-8947-e223d7bf61de');\n",
       "var x = new MutationObserver(function (mutations, observer) {{\n",
       "        var display = window.getComputedStyle(gd).display;\n",
       "        if (!display || display === 'none') {{\n",
       "            console.log([gd, 'removed!']);\n",
       "            Plotly.purge(gd);\n",
       "            observer.disconnect();\n",
       "        }}\n",
       "}});\n",
       "\n",
       "// Listen for the removal of the full notebook cells\n",
       "var notebookContainer = gd.closest('#notebook-container');\n",
       "if (notebookContainer) {{\n",
       "    x.observe(notebookContainer, {childList: true});\n",
       "}}\n",
       "\n",
       "// Listen for the clearing of the current output cell\n",
       "var outputEl = gd.closest('.output');\n",
       "if (outputEl) {{\n",
       "    x.observe(outputEl, {childList: true});\n",
       "}}\n",
       "\n",
       "                        })                };                });            </script>        </div>"
      ]
     },
     "metadata": {},
     "output_type": "display_data"
    }
   ],
   "source": [
    "percentage_df = df.groupby('rating')['status'].apply(lambda x: (x == 'default').mean() * 100).reset_index()\n",
    "\n",
    "# Sort by rating\n",
    "percentage_df = percentage_df.sort_values(by='rating')\n",
    "\n",
    "# Plot\n",
    "percentage_df = percentage_df[percentage_df.rating!=\"\"]\n",
    "fig = px.bar(percentage_df, x='rating', y='status', labels={'status': 'Percentage of Default'})\n",
    "fig.show()"
   ]
  },
  {
   "cell_type": "code",
   "execution_count": null,
   "metadata": {},
   "outputs": [],
   "source": []
  }
 ],
 "metadata": {
  "kernelspec": {
   "display_name": ".venv",
   "language": "python",
   "name": "python3"
  },
  "language_info": {
   "codemirror_mode": {
    "name": "ipython",
    "version": 3
   },
   "file_extension": ".py",
   "mimetype": "text/x-python",
   "name": "python",
   "nbconvert_exporter": "python",
   "pygments_lexer": "ipython3",
   "version": "3.10.12"
  }
 },
 "nbformat": 4,
 "nbformat_minor": 2
}
